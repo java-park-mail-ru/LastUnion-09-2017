{
 "cells": [
  {
   "cell_type": "markdown",
   "metadata": {},
   "source": [
    "## Тестирование websocet\n",
    "мини приложение эмулирующее работу клиента\n",
    "запускать в двух экземплярах и смотреть что происходит"
   ]
  },
  {
   "cell_type": "code",
   "execution_count": null,
   "metadata": {
    "collapsed": true
   },
   "outputs": [],
   "source": [
    "from websocket import create_connection\n",
    "from websocket import WebSocketApp\n",
    "import ssl\n",
    "import requests\n",
    "import time \n",
    "import json\n",
    "import _thread as thread"
   ]
  },
  {
   "cell_type": "code",
   "execution_count": 2,
   "metadata": {
    "collapsed": true
   },
   "outputs": [],
   "source": [
    "class GameSocket:\n",
    "    def __init__(self, cookie):\n",
    "        self.game_socket = None\n",
    "        self.cookie = cookie\n",
    "        pass\n",
    "\n",
    "    @staticmethod\n",
    "    def on_open(ws):\n",
    "        def run(*args):\n",
    "            while(True):\n",
    "                pass\n",
    "        thread.start_new_thread(run, ())\n",
    "\n",
    "    def open_game(self):\n",
    "        def on_recive(ws,message):\n",
    "            message = json.loads(message)\n",
    "            self.handle(message)\n",
    "        self.game_socket = WebSocketApp(\"ws://localhost:8080/websocket\",cookie=self.cookie, on_message=on_recive)\n",
    "        self.game_socket.on_open = self.on_open\n",
    "        self.game_socket.run_forever()\n",
    "        self.game_socket.send({\n",
    "            \"command\":\"Ready\",\n",
    "            \"arguments\":\"test\"\n",
    "        })\n",
    "\n",
    "    def handle(self, message):\n",
    "        print(message)\n",
    "        self.game_socket.send({\n",
    "            \"command\":\"Ready\",\n",
    "            \"arguments\":\"test\"\n",
    "        })\n",
    "        if message[\"command\"] == \"Start\":\n",
    "            self.game_socket.send({\n",
    "            \"command\":\"Ready\",\n",
    "            \"arguments\":\"test\"\n",
    "        })\n",
    "            \n",
    "    def set_ready(self):\n",
    "        self.game_socket.send({\n",
    "            \"command\":\"Ready\",\n",
    "            \"arguments\":\"test\"\n",
    "        })"
   ]
  },
  {
   "cell_type": "code",
   "execution_count": 3,
   "metadata": {
    "collapsed": true
   },
   "outputs": [],
   "source": [
    "class User(object):\n",
    "    def __init__(self, login, password):\n",
    "        self.login = login\n",
    "        self.password = password\n",
    "        self.game_socket = None\n",
    "        self.cookie = None\n",
    "        pass\n",
    "\n",
    "    def prepare(self):\n",
    "        session = requests.Session()\n",
    "        logindict = {\n",
    "            \"userName\": self.login,\n",
    "            \"userPassword\": self.password\n",
    "        }\n",
    "        headers = '''Accept: */*\n",
    "        Connection: keep-alive\n",
    "        Accept-Encoding: gzip, deflate\n",
    "        User-Agent: python-requests/2.9.1\n",
    "        '''\n",
    "        rsp = session.post(\"http://localhost:8080/api/user/signin\",json=logindict)\n",
    "        cookies = session.cookies.get_dict()\n",
    "        print(rsp)\n",
    "        print(session)\n",
    "        name, val = cookies.popitem()\n",
    "        self.cookie = \"{}={}\".format(name,val)\n",
    "        print(self.cookie)\n",
    "\n",
    "    def connect_game(self):\n",
    "       self.game_socket = GameSocket(self.cookie)\n",
    "       self.game_socket.open_game()"
   ]
  },
  {
   "cell_type": "markdown",
   "metadata": {},
   "source": [
    "## Вписать параметры существующих юзеров"
   ]
  },
  {
   "cell_type": "code",
   "execution_count": 4,
   "metadata": {},
   "outputs": [],
   "source": [
    "user1 = User(\"login\", \"password\")"
   ]
  },
  {
   "cell_type": "code",
   "execution_count": null,
   "metadata": {
    "collapsed": true
   },
   "outputs": [],
   "source": [
    "user1.prepare()\n",
    "user1.connect_game()"
   ]
  }
 ],
 "metadata": {
  "kernelspec": {
   "display_name": "Python 3",
   "language": "python",
   "name": "python3"
  },
  "language_info": {
   "codemirror_mode": {
    "name": "ipython",
    "version": 3
   },
   "file_extension": ".py",
   "mimetype": "text/x-python",
   "name": "python",
   "nbconvert_exporter": "python",
   "pygments_lexer": "ipython3",
   "version": "3.5.2"
  }
 },
 "nbformat": 4,
 "nbformat_minor": 2
}
